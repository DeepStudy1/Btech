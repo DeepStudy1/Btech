{
 "cells": [
  {
   "cell_type": "markdown",
   "metadata": {},
   "source": [
    "<a href='https://www.darshan.ac.in/'> <img src='https://www.darshan.ac.in/Content/media/DU_Logo.svg' width=\"250\" height=\"300\"/></a>\n",
    "<pre>\n",
    "<center><b><h1>Python Programming - 2301CS404</b></center>\n",
    "<center><b><h1>Lab - 7</b></center>    \n",
    "<pre>"
   ]
  },
  {
   "cell_type": "markdown",
   "metadata": {},
   "source": [
    "# Set & Dictionary"
   ]
  },
  {
   "cell_type": "markdown",
   "metadata": {},
   "source": [
    "### 01) WAP to iterate over a set."
   ]
  },
  {
   "cell_type": "code",
   "execution_count": 2,
   "metadata": {},
   "outputs": [
    {
     "name": "stdout",
     "output_type": "stream",
     "text": [
      "1\n",
      "2\n",
      "3\n",
      "4\n",
      "5\n"
     ]
    },
    {
     "data": {
      "text/plain": [
       "set"
      ]
     },
     "execution_count": 2,
     "metadata": {},
     "output_type": "execute_result"
    }
   ],
   "source": [
    "set1 = {1,2,3,4,5}\n",
    "for i in set1:\n",
    "    print(i)\n",
    "type(set1)"
   ]
  },
  {
   "cell_type": "markdown",
   "metadata": {},
   "source": [
    "### 02) WAP to convert set into list, string and tuple."
   ]
  },
  {
   "cell_type": "code",
   "execution_count": 15,
   "metadata": {},
   "outputs": [
    {
     "name": "stdout",
     "output_type": "stream",
     "text": [
      "Converted into <class 'set'>\n",
      "[1, 2, 3, 4, 5]\n",
      "Converted into <class 'str'>\n",
      "{1, 2, 3, 4, 5}\n",
      "Converted into <class 'tuple'>\n",
      "(1, 2, 3, 4, 5)\n"
     ]
    }
   ],
   "source": [
    "set2 = {1,2,3,4,5}\n",
    "print(\"Converted into\", type(set2))\n",
    "print(list(set2))\n",
    "\n",
    "\n",
    "string = str(set2)\n",
    "print(\"Converted into\", type(string))\n",
    "print(string)\n",
    "\n",
    "tuple1= tuple(set2)\n",
    "print(\"Converted into\", type(tuple1))\n",
    "print(tuple1)"
   ]
  },
  {
   "cell_type": "markdown",
   "metadata": {},
   "source": [
    "### 03) WAP to find Maximum and Minimum from a set."
   ]
  },
  {
   "cell_type": "code",
   "execution_count": 24,
   "metadata": {},
   "outputs": [
    {
     "name": "stdout",
     "output_type": "stream",
     "text": [
      "Minimum number: 1 and Maximum number: 5\n"
     ]
    }
   ],
   "source": [
    "set2 = {1,2,3,4,5}\n",
    "\n",
    "list1 =list(set2)\n",
    "list1.sort()\n",
    "\n",
    "print(f\"Minimum number: {list1[0]} and Maximum number: {list1[-1]}\")\n"
   ]
  },
  {
   "cell_type": "markdown",
   "metadata": {},
   "source": [
    "### 04) WAP to perform union of two sets."
   ]
  },
  {
   "cell_type": "code",
   "execution_count": 25,
   "metadata": {},
   "outputs": [
    {
     "name": "stdout",
     "output_type": "stream",
     "text": [
      "{1, 2, 3, 4, 5, 6, 7}\n"
     ]
    }
   ],
   "source": [
    "set1 = {1,2,3,4,5}\n",
    "set2 = {3,4,5,6,7}\n",
    "\n",
    "answer = set1.union(set2)\n",
    "print(answer)\n"
   ]
  },
  {
   "cell_type": "markdown",
   "metadata": {},
   "source": [
    "### 05) WAP to check if two lists have at-least one element common."
   ]
  },
  {
   "cell_type": "code",
   "execution_count": 28,
   "metadata": {},
   "outputs": [
    {
     "name": "stdout",
     "output_type": "stream",
     "text": [
      "Common elements are: {3, 4, 5}\n"
     ]
    }
   ],
   "source": [
    "set1 = {1,2,3,4,5}\n",
    "set2 = {3,4,5,6,7}\n",
    "\n",
    "common = set1.intersection(set2)\n",
    "print(f\"Common elements are: {common}\")"
   ]
  },
  {
   "cell_type": "markdown",
   "metadata": {},
   "source": [
    "### 06) WAP to remove duplicates from list."
   ]
  },
  {
   "cell_type": "code",
   "execution_count": 29,
   "metadata": {},
   "outputs": [
    {
     "name": "stdout",
     "output_type": "stream",
     "text": [
      "{1, 2, 3, 4, 5, 6}\n"
     ]
    }
   ],
   "source": [
    "list1 = [1,2,3,4,6,5,2,3,1,4,6]\n",
    "\n",
    "set1 = set(list1)\n",
    "print(set1)"
   ]
  },
  {
   "cell_type": "markdown",
   "metadata": {},
   "source": [
    "### 07) WAP to find unique words in the given string."
   ]
  },
  {
   "cell_type": "code",
   "execution_count": 39,
   "metadata": {},
   "outputs": [
    {
     "name": "stdout",
     "output_type": "stream",
     "text": [
      "{'hello', 'hi'}\n"
     ]
    },
    {
     "data": {
      "text/plain": [
       "set"
      ]
     },
     "execution_count": 39,
     "metadata": {},
     "output_type": "execute_result"
    }
   ],
   "source": [
    "string = \"hello hi hello\"\n",
    "\n",
    "set1 = set(string.split(\" \"))\n",
    "print(set1)\n",
    "\n",
    "type(set1)"
   ]
  },
  {
   "cell_type": "markdown",
   "metadata": {},
   "source": [
    "### 08) WAP to remove common elements of set A & B from set A."
   ]
  },
  {
   "cell_type": "code",
   "execution_count": 43,
   "metadata": {},
   "outputs": [
    {
     "name": "stdout",
     "output_type": "stream",
     "text": [
      "{1, 2}\n"
     ]
    }
   ],
   "source": [
    "set1 = {1,2,3,4,5}\n",
    "set2 = {3,4,5,6,7}\n",
    "\n",
    "set1.difference_update(set2)\n",
    "print(set1)"
   ]
  },
  {
   "cell_type": "markdown",
   "metadata": {},
   "source": [
    "### 09) WAP to check whether two given strings are anagram or not using set."
   ]
  },
  {
   "cell_type": "code",
   "execution_count": 63,
   "metadata": {},
   "outputs": [
    {
     "name": "stdout",
     "output_type": "stream",
     "text": [
      "String is anagram\n"
     ]
    }
   ],
   "source": [
    "s1='abc'\n",
    "s2='acba'\n",
    "\n",
    "if set(s1)==set(s2) and len(s1) == len(s2):\n",
    "    print('String is anagram')\n",
    "\n",
    "else:\n",
    "    print('String is\\'t anagram')"
   ]
  },
  {
   "cell_type": "markdown",
   "metadata": {},
   "source": [
    "### 10) WAP to find common elements in three lists using set."
   ]
  },
  {
   "cell_type": "code",
   "execution_count": 62,
   "metadata": {},
   "outputs": [
    {
     "name": "stdout",
     "output_type": "stream",
     "text": [
      "{5}\n"
     ]
    }
   ],
   "source": [
    "list1 = [1,2,3,4,5]\n",
    "list2 = [3,4,5,6,7]\n",
    "list3 = [5,6,7,8,9]\n",
    "\n",
    "set1 = set(list1)\n",
    "set2 = set(list2)\n",
    "set3 = set(list3)\n",
    "\n",
    "common= set1.intersection(set2)\n",
    "common1=common.intersection(set3)\n",
    "\n",
    "print(common1)"
   ]
  },
  {
   "cell_type": "markdown",
   "metadata": {},
   "source": [
    "### 11) WAP to count number of vowels in given string using set."
   ]
  },
  {
   "cell_type": "code",
   "execution_count": 68,
   "metadata": {},
   "outputs": [
    {
     "name": "stdout",
     "output_type": "stream",
     "text": [
      "3\n"
     ]
    }
   ],
   "source": [
    "vowels = set(\"aeiou\")\n",
    "\n",
    "str1 = \"abcDeFGi\".lower()\n",
    "count =0\n",
    "for i in str1:\n",
    "    if i in vowels:\n",
    "        count +=1\n",
    "print(count)"
   ]
  },
  {
   "cell_type": "markdown",
   "metadata": {},
   "source": [
    "### 12) WAP to check if a given string is binary string or not."
   ]
  },
  {
   "cell_type": "code",
   "execution_count": 74,
   "metadata": {},
   "outputs": [
    {
     "name": "stdout",
     "output_type": "stream",
     "text": [
      "01010D1 is not a binary string\n"
     ]
    }
   ],
   "source": [
    "binary = set(\"10\")\n",
    "\n",
    "str1 = \"01010D1\"\n",
    "flag = False\n",
    "\n",
    "for i in str1:\n",
    "    if i not in binary:\n",
    "        flag = False\n",
    "        break\n",
    "    else:\n",
    "        flag = True\n",
    "\n",
    "if flag == True:\n",
    "    print(f\"{str1} is binary string\")\n",
    "else:\n",
    "    print(f\"{str1} is not a binary string\")"
   ]
  },
  {
   "cell_type": "markdown",
   "metadata": {},
   "source": [
    "### 13) WAP to sort dictionary by key or value."
   ]
  },
  {
   "cell_type": "code",
   "execution_count": 78,
   "metadata": {},
   "outputs": [
    {
     "name": "stdout",
     "output_type": "stream",
     "text": [
      "[('a', '0'), ('b', '1'), ('c', '3')]\n"
     ]
    }
   ],
   "source": [
    "data = {'c': 3, 'a': 1, 'b': 2}\n",
    "\n",
    "sortedByKeys = {k: data[k] for k in sorted(data)}\n",
    "sortedByValues = {k: v for k, v in sorted(data.items(), key=lambda item: item[1])}\n",
    "\n",
    "print(\"Original Dictionary:\", data)\n",
    "print(\"Sorted by Keys:\", sortedByKeys)\n",
    "print(\"Sorted by Values:\", sortedByValues)\n"
   ]
  },
  {
   "cell_type": "markdown",
   "metadata": {},
   "source": [
    "### 14) WAP to find the sum of all items (values) in a dictionary given by user. (Assume: values are numeric)"
   ]
  },
  {
   "cell_type": "code",
   "execution_count": null,
   "metadata": {},
   "outputs": [],
   "source": [
    "data = eval(input(\"Enter a dictionary with numeric values: \"))\n",
    "total = sum(data.values())\n",
    "print(\"Sum of all values:\", total)"
   ]
  },
  {
   "cell_type": "markdown",
   "metadata": {},
   "source": [
    "### 15) WAP to handle missing keys in dictionaries.\n",
    "#### Example : Given, dict1 = {'a': 5, 'c': 8, 'e': 2} \n",
    "#### if you look for key = 'd', the message given should be 'Key Not Found', otherwise print the value of 'd' in dict1."
   ]
  },
  {
   "cell_type": "code",
   "execution_count": 79,
   "metadata": {},
   "outputs": [
    {
     "name": "stdin",
     "output_type": "stream",
     "text": [
      "Enter the key to search:  a\n"
     ]
    },
    {
     "name": "stdout",
     "output_type": "stream",
     "text": [
      "The value of 'a' is: 5\n"
     ]
    }
   ],
   "source": [
    "dict1 = {'a': 5, 'c': 8, 'e': 2}\n",
    "key = input(\"Enter the key to search: \")\n",
    "\n",
    "if key in dict1:\n",
    "    print(f\"The value of '{key}' is: {dict1[key]}\")\n",
    "else:\n",
    "    print(\"Key Not Found\")"
   ]
  }
 ],
 "metadata": {
  "kernelspec": {
   "display_name": "Python 3 (ipykernel)",
   "language": "python",
   "name": "python3"
  },
  "language_info": {
   "codemirror_mode": {
    "name": "ipython",
    "version": 3
   },
   "file_extension": ".py",
   "mimetype": "text/x-python",
   "name": "python",
   "nbconvert_exporter": "python",
   "pygments_lexer": "ipython3",
   "version": "3.12.7"
  }
 },
 "nbformat": 4,
 "nbformat_minor": 4
}
